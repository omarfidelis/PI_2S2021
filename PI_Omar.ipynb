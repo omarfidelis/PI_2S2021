{
 "cells": [
  {
   "cell_type": "markdown",
   "id": "1907648c",
   "metadata": {},
   "source": [
    "<img src=\"https://alunos.s3.amazonaws.com/omar.fidelis/images/1.1_intro.PNG\" width=\"75%\" height=\"75%\"> <br>\n",
    "### Aluno: Omar Hajime Fidelis\n",
    "### Data: 05/12/2021"
   ]
  },
  {
   "cell_type": "markdown",
   "id": "2abbffeb",
   "metadata": {},
   "source": [
    "<img src=\"https://alunos.s3.amazonaws.com/omar.fidelis/images/1.2_regras.PNG\" width=\"70%\" height=\"70%\">"
   ]
  },
  {
   "cell_type": "markdown",
   "id": "78623abd",
   "metadata": {},
   "source": [
    "<img src=\"https://alunos.s3.amazonaws.com/omar.fidelis/images/1.3_BigData.PNG\" width=\"80%\" height=\"80%\">"
   ]
  },
  {
   "cell_type": "markdown",
   "id": "ac5f1c74",
   "metadata": {},
   "source": [
    "# 1. Introdução"
   ]
  },
  {
   "cell_type": "markdown",
   "id": "6c0c3b22",
   "metadata": {},
   "source": [
    "## 1.1. Objetivo"
   ]
  },
  {
   "cell_type": "markdown",
   "id": "61aabd0e",
   "metadata": {},
   "source": [
    "Este projeto tem como objetivo a aplicação das técnicas de Ciência de Dados no conjunto de dados (dataset) de \"Wine Quality\".\n",
    "A escolha do dataset está relacionado a continuidade e comparação do processo de desenvolvimento do projeto do semestre anterior.<br><br>\n",
    "O foco principal deste projeto é o desenvolvimento de uma solução de aprendizado de máquina cujo treinamento e processamento deverão ser realizados em ambiente de nuvem (Amazon Web Service - AWS), com processamento distribuído (cluster de computadores), explorando o uso de\n",
    "paralelismo (spark/mapreduce).<br><br>\n",
    "Além o ambiente distribuído, aplicou-se técnicas de machine learning (normalização, pipeline, cross validation), e uma série de algoritmos de classificação para avaliação de performance e resultados."
   ]
  },
  {
   "cell_type": "markdown",
   "id": "02ebe1aa",
   "metadata": {},
   "source": [
    "## 1.2. Descrição Dataset"
   ]
  },
  {
   "cell_type": "markdown",
   "id": "855e6b57",
   "metadata": {},
   "source": [
    "A base de dados consolidada é composta por 1599 amostra de vinho vermelho e 4898 amostra de vinho branco, totalizando 6497 amostra e descritas pela coluna \"style\". O dataset foi criado Paulo Cortez (Univ. Minho), António Cerdeira, Fernando Almeida, Telmo Matos and José Reis em 2009.<br>\n",
    "Cada linha da base de dados é uma amostra de vinho com suas medições fisico-químicas, tipo do vinho (vermelho ou branco) e a nota/avaliação de especialistas.<br>\n",
    "Neste projeto, consideramos a análise para a classificação do vinho, podendo ser \"tinto\" ou \"branco\"."
   ]
  },
  {
   "cell_type": "markdown",
   "id": "b60b6882",
   "metadata": {},
   "source": [
    "## 1.3. Detalhamento dos atributos"
   ]
  },
  {
   "cell_type": "markdown",
   "id": "ea814678",
   "metadata": {},
   "source": [
    "**fixed_acidity = Acidez Fixa:** ácido não volátil encontrado no vinho, que é tartárico, málico, cítrico e succínico. Todos esses ácidos são originários das uvas, com exceção do ácido succínico, que é produzido pela levedura durante o processo de fermentação<br><br>\n",
    "**volatile_acidity = Acidez volátil:** os elementos ácidos de um vinho que são gasosos, em vez de líquidos e, portanto, podem ser sentidos como um cheiro, mostrando um aroma, em vez de encontrados no palato<br><br>\n",
    "**citric_acid = Ácido cítrico:** um ácido orgânico fraco, frequentemente usado como conservante natural ou aditivo para alimentos ou bebidas para adicionar um sabor azedo e frescor aos alimentos<br><br>\n",
    "**residual_sugar = Açúcar residual:** a quantidade de açúcar remanescente após a parada da fermentação, é raro encontrar vinhos com menos de 1 grama / litro e vinhos com mais de 45 gramas / litro são considerados doces<br><br>\n",
    "**chlorides = Cloretos:** a quantidade de sal no vinho<br><br>\n",
    "**free_sulfur_dioxide = Dióxido de Enxofre Livre (SO2):** o SO2 é usado em todas as fases do processo de vinificação para prevenir a oxidação e o crescimento microbiano. Quantidades excessivas de SO2 podem inibir a fermentação e causar efeitos sensoriais indesejáveis<br><br>\n",
    "**total_sulfur_dioxide = Dióxido de Enxofre Total:** quantidade das formas livre e ligada de S02S02; em baixas concentrações, SO2SO2 é principalmente indetectável no vinho, mas em concentrações de SO2SO2 livre acima de 50 ppm, SO2SO2 torna-se evidente no nariz e no sabor do vinho<br><br>\n",
    "**density = Densidade:** a densidade é próxima à da água, dependendo da porcentagem de álcool e açúcar<br><br>\n",
    "**pH:** produtores de vinho usam o pH como forma de medir a maturação em relação à acidez. Vinhos de pH baixo terão gosto ácido e crocante, enquanto vinhos de pH mais alto são mais suscetíveis ao crescimento bacteriano. A maioria do pH do vinho está em torno de 3 ou 4<br><br>\n",
    "**sulphates = Sulfatos:** aditivo do vinho que pode contribuir para os níveis de gás de dióxido de enxofre (S02S02), que atua como um antimicrobiano e antioxidante<br><br>\n",
    "**alcohol = Álcool:** o teor de álcool do vinho em percentual<br><br>\n",
    "**quality = Qualidade:** notas/avaliações realizadas por no mínimo 3 especialistas em vinhos<br><br>\n",
    "**style = Tipo:** Tipo do Vino (Vermelho ou Branco)"
   ]
  },
  {
   "cell_type": "markdown",
   "id": "75897ea0",
   "metadata": {},
   "source": [
    "# 2. Infraestrutura"
   ]
  },
  {
   "cell_type": "markdown",
   "id": "4003afd0",
   "metadata": {},
   "source": [
    "## 2.1. Infraestrutura AWS"
   ]
  },
  {
   "cell_type": "markdown",
   "id": "73a85039",
   "metadata": {},
   "source": [
    "<img src=\"https://alunos.s3.amazonaws.com/omar.fidelis/images/2.1_AWS_arquitetura.PNG\" width=\"70%\" height=\"70%\">"
   ]
  },
  {
   "cell_type": "markdown",
   "id": "f10e5e0d",
   "metadata": {},
   "source": [
    "## 2.2. AWS Applications"
   ]
  },
  {
   "cell_type": "markdown",
   "id": "fd383793",
   "metadata": {},
   "source": [
    "### 2.2.1. Apache Spark"
   ]
  },
  {
   "cell_type": "markdown",
   "id": "7e853f00",
   "metadata": {},
   "source": [
    "Apache Spark is a distributed processing framework and programming model that helps you do machine learning, stream processing, or graph analytics using Amazon EMR clusters. Similar to Apache Hadoop, Spark is an open-source, distributed processing system commonly used for big data workloads. However, Spark has several notable differences from Hadoop MapReduce. Spark has an optimized directed acyclic graph (DAG) execution engine and actively caches data in-memory, which can boost performance, especially for certain algorithms and interactive queries."
   ]
  },
  {
   "cell_type": "markdown",
   "id": "3fae6ef2",
   "metadata": {},
   "source": [
    "<img src=\"https://alunos.s3.amazonaws.com/omar.fidelis/images/2.2_EMR_Spark.PNG\" width=\"70%\" height=\"70%\">"
   ]
  },
  {
   "cell_type": "markdown",
   "id": "30c3081c",
   "metadata": {},
   "source": [
    "### 2.2.2. Apache Hive"
   ]
  },
  {
   "cell_type": "markdown",
   "id": "972d2006",
   "metadata": {},
   "source": [
    "Hive is an open-source, data warehouse, and analytic package that runs on top of a Hadoop cluster. Hive scripts use an SQL-like language called Hive QL (query language) that abstracts programming models and supports typical data warehouse interactions. Hive enables you to avoid the complexities of writing Tez jobs based on directed acyclic graphs (DAGs) or MapReduce programs in a lower level computer language, such as Java."
   ]
  },
  {
   "cell_type": "markdown",
   "id": "6fa63943",
   "metadata": {},
   "source": [
    "<img src=\"https://alunos.s3.amazonaws.com/omar.fidelis/images/2.3_EMR_Hive.PNG\" width=\"70%\" height=\"70%\">"
   ]
  },
  {
   "cell_type": "markdown",
   "id": "46a25bd2",
   "metadata": {},
   "source": [
    "### 2.2.3. Apache Livy"
   ]
  },
  {
   "cell_type": "markdown",
   "id": "e7c9a649",
   "metadata": {},
   "source": [
    "Livy enables interaction over a REST interface with an EMR cluster running Spark. You can use the REST interface or an RPC client library to submit Spark jobs or snippets of Spark code, retrieve results synchronously or asynchronously, and manage Spark Context. For more information, see the Apache Livy website. Livy is included in Amazon EMR release version 5.9.0 and later."
   ]
  },
  {
   "cell_type": "markdown",
   "id": "48a14396",
   "metadata": {},
   "source": [
    "<img src=\"https://alunos.s3.amazonaws.com/omar.fidelis/images/2.4_EMR_Livy.PNG\" width=\"70%\" height=\"70%\">"
   ]
  },
  {
   "cell_type": "markdown",
   "id": "15f3825f",
   "metadata": {},
   "source": [
    "### 2.2.4. Amazon EMR Notebook based on Jupyter Notebook"
   ]
  },
  {
   "cell_type": "markdown",
   "id": "d01e713f",
   "metadata": {},
   "source": [
    "EMR Notebooks is a Jupyter Notebook environment built in to the Amazon EMR console that allows you to quickly create Jupyter notebooks, attach them to Spark clusters, and then open the Jupyter Notebook editor in the console to remotely run queries and code. An EMR notebook is saved in Amazon S3 independently from clusters for durable storage, quick access, and flexibility. You can have multiple notebooks open, attach multiple notebooks to a single cluster, and re-use a notebook on different clusters."
   ]
  },
  {
   "cell_type": "markdown",
   "id": "0f0fa867",
   "metadata": {},
   "source": [
    "### 2.2.4. Amazon EMR Notebook Arquitetura"
   ]
  },
  {
   "cell_type": "markdown",
   "id": "4e95d042",
   "metadata": {},
   "source": [
    "<img src=\"https://alunos.s3.amazonaws.com/omar.fidelis/images/2.6_EMR_JupyterHub_Arqchitecture.PNG\" width=\"70%\" height=\"70%\">"
   ]
  },
  {
   "cell_type": "markdown",
   "id": "0b481e19",
   "metadata": {},
   "source": [
    "## 2.3. Create EMR Cluster"
   ]
  },
  {
   "cell_type": "markdown",
   "id": "ce53c364",
   "metadata": {},
   "source": [
    "### Lista de aplicações do Cluster\n",
    "<img src=\"https://alunos.s3.amazonaws.com/omar.fidelis/images/3.1_Create_cluster_step_1.PNG\">"
   ]
  },
  {
   "cell_type": "markdown",
   "id": "445f6088",
   "metadata": {},
   "source": [
    "### Hardware Configuration\n",
    "<img src=\"https://alunos.s3.amazonaws.com/omar.fidelis/images/3.2_Create_cluster_step_2.1.PNG\">"
   ]
  },
  {
   "cell_type": "markdown",
   "id": "97b75657",
   "metadata": {},
   "source": [
    "### Hardware Description\n",
    "<img src=\"https://alunos.s3.amazonaws.com/omar.fidelis/images/3.3_Create_cluster_step_2.2.PNG\">"
   ]
  },
  {
   "cell_type": "markdown",
   "id": "3be75e2e",
   "metadata": {},
   "source": [
    "### Habilitando Cluster Scaling\n",
    "<img src=\"https://alunos.s3.amazonaws.com/omar.fidelis/images/3.4_Create_cluster_step_2.3.PNG\">"
   ]
  },
  {
   "cell_type": "markdown",
   "id": "9135620a",
   "metadata": {},
   "source": [
    "### Aumento hardware configuration\n",
    "<img src=\"https://alunos.s3.amazonaws.com/omar.fidelis/images/3.7_Create_cluster_step_2.4HP.PNG\">"
   ]
  },
  {
   "cell_type": "markdown",
   "id": "e48bfb8b",
   "metadata": {},
   "source": [
    "### Definição de Bucket de LOG\n",
    "<img src=\"https://alunos.s3.amazonaws.com/omar.fidelis/images/3.8_Create_cluster_step_3.PNG\">"
   ]
  },
  {
   "cell_type": "markdown",
   "id": "2bb07eaa",
   "metadata": {},
   "source": [
    "### Configuração padrão (key, role, profile, etc.)\n",
    "<img src=\"https://alunos.s3.amazonaws.com/omar.fidelis/images/3.9_Create_cluster_step_4.PNG\">"
   ]
  },
  {
   "cell_type": "markdown",
   "id": "d08d720b",
   "metadata": {},
   "source": [
    "### Running server\n",
    "<img src=\"https://alunos.s3.amazonaws.com/omar.fidelis/images/3.11_EMR_cluster_running.PNG\">"
   ]
  },
  {
   "cell_type": "markdown",
   "id": "88779f16",
   "metadata": {},
   "source": [
    "### Running Jupyter Notebook\n",
    "<img src=\"https://alunos.s3.amazonaws.com/omar.fidelis/images/3.13_Jupyter_started.PNG\">"
   ]
  },
  {
   "cell_type": "markdown",
   "id": "325ea088",
   "metadata": {},
   "source": [
    "## 2.4. Hardware Configuration"
   ]
  },
  {
   "cell_type": "markdown",
   "id": "79c1412a",
   "metadata": {},
   "source": [
    "### Summary Configuration\n",
    "<img src=\"https://alunos.s3.amazonaws.com/omar.fidelis/images/4.1_Summary_configuration.PNG\">"
   ]
  },
  {
   "cell_type": "markdown",
   "id": "7b257047",
   "metadata": {},
   "source": [
    "### Hardware Configuration\n",
    "<img src=\"https://alunos.s3.amazonaws.com/omar.fidelis/images/4.2_Hardware_configuration.PNG\">"
   ]
  },
  {
   "cell_type": "markdown",
   "id": "e872e530",
   "metadata": {},
   "source": [
    "### Application Configuration\n",
    "<img src=\"https://alunos.s3.amazonaws.com/omar.fidelis/images/4.3_Application_configuration.PNG\">"
   ]
  },
  {
   "cell_type": "markdown",
   "id": "4ad3e7a0",
   "metadata": {},
   "source": [
    "### Spark Sessions\n",
    "<img src=\"https://alunos.s3.amazonaws.com/omar.fidelis/images/4.4_Spark_Sessions.PNG\">"
   ]
  },
  {
   "cell_type": "markdown",
   "id": "f606ba73",
   "metadata": {},
   "source": [
    "# 3. Preparação do ambiente"
   ]
  },
  {
   "cell_type": "code",
   "execution_count": 1,
   "id": "73be270a",
   "metadata": {},
   "outputs": [
    {
     "data": {
      "application/vnd.jupyter.widget-view+json": {
       "model_id": "cd69bc4146814940951ac8bf0db9c0d1",
       "version_major": 2,
       "version_minor": 0
      },
      "text/plain": [
       "VBox()"
      ]
     },
     "metadata": {},
     "output_type": "display_data"
    },
    {
     "name": "stdout",
     "output_type": "stream",
     "text": [
      "Starting Spark application\n"
     ]
    },
    {
     "data": {
      "text/html": [
       "<table>\n",
       "<tr><th>ID</th><th>YARN Application ID</th><th>Kind</th><th>State</th><th>Spark UI</th><th>Driver log</th><th>Current session?</th></tr><tr><td>0</td><td>application_1638144682166_0001</td><td>pyspark</td><td>idle</td><td><a target=\"_blank\" href=\"http://ip-172-31-23-153.us-east-2.compute.internal:20888/proxy/application_1638144682166_0001/\" class=\"emr-proxy-link\" emr-resource=\"j-39UF3PR5RE5CC\n",
       "\" application-id=\"application_1638144682166_0001\">Link</a></td><td><a target=\"_blank\" href=\"http://ip-172-31-24-5.us-east-2.compute.internal:8042/node/containerlogs/container_1638144682166_0001_01_000001/livy\" >Link</a></td><td>✔</td></tr></table>"
      ],
      "text/plain": [
       "<IPython.core.display.HTML object>"
      ]
     },
     "metadata": {},
     "output_type": "display_data"
    },
    {
     "data": {
      "application/vnd.jupyter.widget-view+json": {
       "model_id": "",
       "version_major": 2,
       "version_minor": 0
      },
      "text/plain": [
       "FloatProgress(value=0.0, bar_style='info', description='Progress:', layout=Layout(height='25px', width='50%'),…"
      ]
     },
     "metadata": {},
     "output_type": "display_data"
    },
    {
     "name": "stdout",
     "output_type": "stream",
     "text": [
      "SparkSession available as 'spark'.\n"
     ]
    },
    {
     "data": {
      "application/vnd.jupyter.widget-view+json": {
       "model_id": "",
       "version_major": 2,
       "version_minor": 0
      },
      "text/plain": [
       "FloatProgress(value=0.0, bar_style='info', description='Progress:', layout=Layout(height='25px', width='50%'),…"
      ]
     },
     "metadata": {},
     "output_type": "display_data"
    }
   ],
   "source": [
    "# Import Library\n",
    "from pyspark.sql import SparkSession\n",
    "from pyspark.sql.functions import *\n",
    "from pyspark.sql.types import *"
   ]
  },
  {
   "cell_type": "code",
   "execution_count": 2,
   "id": "1232d974",
   "metadata": {},
   "outputs": [
    {
     "data": {
      "application/vnd.jupyter.widget-view+json": {
       "model_id": "58ca0fa8b6e74cc1983c9e11f7478b67",
       "version_major": 2,
       "version_minor": 0
      },
      "text/plain": [
       "VBox()"
      ]
     },
     "metadata": {},
     "output_type": "display_data"
    },
    {
     "data": {
      "application/vnd.jupyter.widget-view+json": {
       "model_id": "",
       "version_major": 2,
       "version_minor": 0
      },
      "text/plain": [
       "FloatProgress(value=0.0, bar_style='info', description='Progress:', layout=Layout(height='25px', width='50%'),…"
      ]
     },
     "metadata": {},
     "output_type": "display_data"
    }
   ],
   "source": [
    "# Start Spark Session\n",
    "spark = SparkSession \\\n",
    "            .builder \\\n",
    "            .getOrCreate()"
   ]
  },
  {
   "cell_type": "code",
   "execution_count": 3,
   "id": "a2542a7f",
   "metadata": {},
   "outputs": [
    {
     "data": {
      "application/vnd.jupyter.widget-view+json": {
       "model_id": "f0eaaa2f245f4448a3e29a47526eb05f",
       "version_major": 2,
       "version_minor": 0
      },
      "text/plain": [
       "VBox()"
      ]
     },
     "metadata": {},
     "output_type": "display_data"
    },
    {
     "data": {
      "application/vnd.jupyter.widget-view+json": {
       "model_id": "",
       "version_major": 2,
       "version_minor": 0
      },
      "text/plain": [
       "FloatProgress(value=0.0, bar_style='info', description='Progress:', layout=Layout(height='25px', width='50%'),…"
      ]
     },
     "metadata": {},
     "output_type": "display_data"
    }
   ],
   "source": [
    "# Data Strucuture\n",
    "schema = StructType([ \\\n",
    "                    StructField(\"Acidez_Fixa\", FloatType(), True), \\\n",
    "                    StructField(\"Acidez_Volatil\", FloatType(), True), \\\n",
    "                    StructField(\"Acido_Citrico\", FloatType(), True), \\\n",
    "                    StructField(\"Acucar_Residual\", FloatType(), True), \\\n",
    "                    StructField(\"Cloreto_Sodio\", FloatType(), True), \\\n",
    "                    StructField(\"Dioxido_Enxofre_Livre\", FloatType(), True), \\\n",
    "                    StructField(\"Dioxido_Enxofre_Total\", FloatType(), True), \\\n",
    "                    StructField(\"Densidade\", FloatType(), True), \\\n",
    "                    StructField(\"pH\", FloatType(), True), \\\n",
    "                    StructField(\"Sulfato\", FloatType(), True), \\\n",
    "                    StructField(\"Alcool\", FloatType(), True), \\\n",
    "                    StructField(\"Qualidade\", FloatType(), True), \\\n",
    "                    StructField(\"Tipo\", StringType(), True)])"
   ]
  },
  {
   "cell_type": "markdown",
   "id": "ff157752",
   "metadata": {},
   "source": [
    "## 3.1. Preparação dataset"
   ]
  },
  {
   "cell_type": "code",
   "execution_count": 4,
   "id": "f74014fe",
   "metadata": {},
   "outputs": [
    {
     "data": {
      "application/vnd.jupyter.widget-view+json": {
       "model_id": "caf96ad4ec384d13a3de508384af31f5",
       "version_major": 2,
       "version_minor": 0
      },
      "text/plain": [
       "VBox()"
      ]
     },
     "metadata": {},
     "output_type": "display_data"
    },
    {
     "data": {
      "application/vnd.jupyter.widget-view+json": {
       "model_id": "",
       "version_major": 2,
       "version_minor": 0
      },
      "text/plain": [
       "FloatProgress(value=0.0, bar_style='info', description='Progress:', layout=Layout(height='25px', width='50%'),…"
      ]
     },
     "metadata": {},
     "output_type": "display_data"
    }
   ],
   "source": [
    "# Import Dataset from S3 Bucket\n",
    "df = spark.read.schema(schema).option(\"header\",\"true\").csv(r\"s3n://bucket.omar/dataset/wine_dataset.csv\")"
   ]
  },
  {
   "cell_type": "code",
   "execution_count": 5,
   "id": "335e6d75",
   "metadata": {},
   "outputs": [
    {
     "data": {
      "application/vnd.jupyter.widget-view+json": {
       "model_id": "dc313d6713134d36b8a06fcf3152d428",
       "version_major": 2,
       "version_minor": 0
      },
      "text/plain": [
       "VBox()"
      ]
     },
     "metadata": {},
     "output_type": "display_data"
    },
    {
     "data": {
      "application/vnd.jupyter.widget-view+json": {
       "model_id": "",
       "version_major": 2,
       "version_minor": 0
      },
      "text/plain": [
       "FloatProgress(value=0.0, bar_style='info', description='Progress:', layout=Layout(height='25px', width='50%'),…"
      ]
     },
     "metadata": {},
     "output_type": "display_data"
    },
    {
     "name": "stdout",
     "output_type": "stream",
     "text": [
      "+-----------+--------------+-------------+---------------+-------------+---------------------+---------------------+---------+----+-------+------+---------+----+\n",
      "|Acidez_Fixa|Acidez_Volatil|Acido_Citrico|Acucar_Residual|Cloreto_Sodio|Dioxido_Enxofre_Livre|Dioxido_Enxofre_Total|Densidade|  pH|Sulfato|Alcool|Qualidade|Tipo|\n",
      "+-----------+--------------+-------------+---------------+-------------+---------------------+---------------------+---------+----+-------+------+---------+----+\n",
      "|        7.4|           0.7|          0.0|            1.9|        0.076|                 11.0|                 34.0|   0.9978|3.51|   0.56|   9.4|      5.0| red|\n",
      "|        7.8|          0.88|          0.0|            2.6|        0.098|                 25.0|                 67.0|   0.9968| 3.2|   0.68|   9.8|      5.0| red|\n",
      "|        7.8|          0.76|         0.04|            2.3|        0.092|                 15.0|                 54.0|    0.997|3.26|   0.65|   9.8|      5.0| red|\n",
      "|       11.2|          0.28|         0.56|            1.9|        0.075|                 17.0|                 60.0|    0.998|3.16|   0.58|   9.8|      6.0| red|\n",
      "|        7.4|           0.7|          0.0|            1.9|        0.076|                 11.0|                 34.0|   0.9978|3.51|   0.56|   9.4|      5.0| red|\n",
      "+-----------+--------------+-------------+---------------+-------------+---------------------+---------------------+---------+----+-------+------+---------+----+\n",
      "only showing top 5 rows"
     ]
    }
   ],
   "source": [
    "# Overview\n",
    "df.show(5)"
   ]
  },
  {
   "cell_type": "code",
   "execution_count": 6,
   "id": "0cae68cf",
   "metadata": {},
   "outputs": [
    {
     "data": {
      "application/vnd.jupyter.widget-view+json": {
       "model_id": "e6ee11f24f0e453e9a1b92655c277882",
       "version_major": 2,
       "version_minor": 0
      },
      "text/plain": [
       "VBox()"
      ]
     },
     "metadata": {},
     "output_type": "display_data"
    },
    {
     "data": {
      "application/vnd.jupyter.widget-view+json": {
       "model_id": "",
       "version_major": 2,
       "version_minor": 0
      },
      "text/plain": [
       "FloatProgress(value=0.0, bar_style='info', description='Progress:', layout=Layout(height='25px', width='50%'),…"
      ]
     },
     "metadata": {},
     "output_type": "display_data"
    },
    {
     "name": "stdout",
     "output_type": "stream",
     "text": [
      "root\n",
      " |-- Acidez_Fixa: float (nullable = true)\n",
      " |-- Acidez_Volatil: float (nullable = true)\n",
      " |-- Acido_Citrico: float (nullable = true)\n",
      " |-- Acucar_Residual: float (nullable = true)\n",
      " |-- Cloreto_Sodio: float (nullable = true)\n",
      " |-- Dioxido_Enxofre_Livre: float (nullable = true)\n",
      " |-- Dioxido_Enxofre_Total: float (nullable = true)\n",
      " |-- Densidade: float (nullable = true)\n",
      " |-- pH: float (nullable = true)\n",
      " |-- Sulfato: float (nullable = true)\n",
      " |-- Alcool: float (nullable = true)\n",
      " |-- Qualidade: float (nullable = true)\n",
      " |-- Tipo: string (nullable = true)"
     ]
    }
   ],
   "source": [
    "# Staset Schema\n",
    "df.printSchema()"
   ]
  },
  {
   "cell_type": "code",
   "execution_count": 7,
   "id": "059bb938",
   "metadata": {},
   "outputs": [
    {
     "data": {
      "application/vnd.jupyter.widget-view+json": {
       "model_id": "377bbacb25e74134a3da3f2464c9a253",
       "version_major": 2,
       "version_minor": 0
      },
      "text/plain": [
       "VBox()"
      ]
     },
     "metadata": {},
     "output_type": "display_data"
    },
    {
     "data": {
      "application/vnd.jupyter.widget-view+json": {
       "model_id": "",
       "version_major": 2,
       "version_minor": 0
      },
      "text/plain": [
       "FloatProgress(value=0.0, bar_style='info', description='Progress:', layout=Layout(height='25px', width='50%'),…"
      ]
     },
     "metadata": {},
     "output_type": "display_data"
    },
    {
     "name": "stdout",
     "output_type": "stream",
     "text": [
      "+-------+------------------+-------------------+-------------------+-----------------+-------------------+---------------------+---------------------+--------------------+-------------------+------------------+------------------+------------------+-----+\n",
      "|summary|       Acidez_Fixa|     Acidez_Volatil|      Acido_Citrico|  Acucar_Residual|      Cloreto_Sodio|Dioxido_Enxofre_Livre|Dioxido_Enxofre_Total|           Densidade|                 pH|           Sulfato|            Alcool|         Qualidade| Tipo|\n",
      "+-------+------------------+-------------------+-------------------+-----------------+-------------------+---------------------+---------------------+--------------------+-------------------+------------------+------------------+------------------+-----+\n",
      "|  count|              6497|               6497|               6497|             6497|               6497|                 6497|                 6497|                6497|               6497|              6497|              6497|              6497| 6497|\n",
      "|   mean|7.2153070684174345| 0.3396659997464309|0.31863321590700183|5.443235335688381|0.05603386190293733|   30.525319378174544|    115.7445744189626|  0.9946966336675106|  3.218500847887659|0.5312682763074607|10.491800813027597| 5.818377712790519| null|\n",
      "| stddev|1.2964337581432526|0.16463647361833078|0.14531786519512516|4.757803743705875|0.03503360134013471|    17.74939977200251|    56.52185452263024|0.002998673927059...|0.16078720153691367|0.1488058737693289|1.1927117488301993|0.8732552715311255| null|\n",
      "|    min|               3.8|               0.08|                0.0|              0.6|              0.009|                  1.0|                  6.0|             0.98711|               2.72|              0.22|               8.0|               3.0|  red|\n",
      "|    max|              15.9|               1.58|               1.66|             65.8|              0.611|                289.0|                440.0|             1.03898|               4.01|               2.0|              14.9|               9.0|white|\n",
      "+-------+------------------+-------------------+-------------------+-----------------+-------------------+---------------------+---------------------+--------------------+-------------------+------------------+------------------+------------------+-----+"
     ]
    }
   ],
   "source": [
    "# No missing values\n",
    "df.select(df.columns).describe().show()"
   ]
  },
  {
   "cell_type": "code",
   "execution_count": 8,
   "id": "63973d2c",
   "metadata": {},
   "outputs": [
    {
     "data": {
      "application/vnd.jupyter.widget-view+json": {
       "model_id": "b5700effaab5489484b45c414105176d",
       "version_major": 2,
       "version_minor": 0
      },
      "text/plain": [
       "VBox()"
      ]
     },
     "metadata": {},
     "output_type": "display_data"
    },
    {
     "data": {
      "application/vnd.jupyter.widget-view+json": {
       "model_id": "",
       "version_major": 2,
       "version_minor": 0
      },
      "text/plain": [
       "FloatProgress(value=0.0, bar_style='info', description='Progress:', layout=Layout(height='25px', width='50%'),…"
      ]
     },
     "metadata": {},
     "output_type": "display_data"
    },
    {
     "name": "stdout",
     "output_type": "stream",
     "text": [
      "+-----------+--------------+-------------+---------------+-------------+---------------------+---------------------+---------+----+-------+------+---------+-----+\n",
      "|Acidez_Fixa|Acidez_Volatil|Acido_Citrico|Acucar_Residual|Cloreto_Sodio|Dioxido_Enxofre_Livre|Dioxido_Enxofre_Total|Densidade|  pH|Sulfato|Alcool|Qualidade|label|\n",
      "+-----------+--------------+-------------+---------------+-------------+---------------------+---------------------+---------+----+-------+------+---------+-----+\n",
      "|        7.4|           0.7|          0.0|            1.9|        0.076|                 11.0|                 34.0|   0.9978|3.51|   0.56|   9.4|      5.0| true|\n",
      "|        7.8|          0.88|          0.0|            2.6|        0.098|                 25.0|                 67.0|   0.9968| 3.2|   0.68|   9.8|      5.0| true|\n",
      "|        7.8|          0.76|         0.04|            2.3|        0.092|                 15.0|                 54.0|    0.997|3.26|   0.65|   9.8|      5.0| true|\n",
      "|       11.2|          0.28|         0.56|            1.9|        0.075|                 17.0|                 60.0|    0.998|3.16|   0.58|   9.8|      6.0| true|\n",
      "|        7.4|           0.7|          0.0|            1.9|        0.076|                 11.0|                 34.0|   0.9978|3.51|   0.56|   9.4|      5.0| true|\n",
      "+-----------+--------------+-------------+---------------+-------------+---------------------+---------------------+---------+----+-------+------+---------+-----+\n",
      "only showing top 5 rows"
     ]
    }
   ],
   "source": [
    "# Transform categocical atrribute (\"Tipo\") to bynary attribute \n",
    "df = df.withColumn('label', col('Tipo') == 'red')\n",
    "df = df.drop('Tipo')\n",
    "df.show(5)"
   ]
  },
  {
   "cell_type": "code",
   "execution_count": 9,
   "id": "19ec49ac",
   "metadata": {},
   "outputs": [
    {
     "data": {
      "application/vnd.jupyter.widget-view+json": {
       "model_id": "aa545f2fcac44795aad74bf241be2fb4",
       "version_major": 2,
       "version_minor": 0
      },
      "text/plain": [
       "VBox()"
      ]
     },
     "metadata": {},
     "output_type": "display_data"
    },
    {
     "data": {
      "application/vnd.jupyter.widget-view+json": {
       "model_id": "",
       "version_major": 2,
       "version_minor": 0
      },
      "text/plain": [
       "FloatProgress(value=0.0, bar_style='info', description='Progress:', layout=Layout(height='25px', width='50%'),…"
      ]
     },
     "metadata": {},
     "output_type": "display_data"
    },
    {
     "name": "stdout",
     "output_type": "stream",
     "text": [
      "root\n",
      " |-- Acidez_Fixa: float (nullable = true)\n",
      " |-- Acidez_Volatil: float (nullable = true)\n",
      " |-- Acido_Citrico: float (nullable = true)\n",
      " |-- Acucar_Residual: float (nullable = true)\n",
      " |-- Cloreto_Sodio: float (nullable = true)\n",
      " |-- Dioxido_Enxofre_Livre: float (nullable = true)\n",
      " |-- Dioxido_Enxofre_Total: float (nullable = true)\n",
      " |-- Densidade: float (nullable = true)\n",
      " |-- pH: float (nullable = true)\n",
      " |-- Sulfato: float (nullable = true)\n",
      " |-- Alcool: float (nullable = true)\n",
      " |-- Qualidade: float (nullable = true)\n",
      " |-- label: integer (nullable = true)"
     ]
    }
   ],
   "source": [
    "# Cast bynary attribute to numerical attribute named \"label\" (standard)\n",
    "from pyspark.sql.types import IntegerType\n",
    "df = df.withColumn(\"label\",col(\"label\").cast(IntegerType()))\n",
    "df.printSchema()"
   ]
  },
  {
   "cell_type": "markdown",
   "id": "8941f2b1",
   "metadata": {},
   "source": [
    "# 4. Processamento (Machine Learning)"
   ]
  },
  {
   "cell_type": "code",
   "execution_count": 10,
   "id": "a5e207ee",
   "metadata": {},
   "outputs": [
    {
     "data": {
      "application/vnd.jupyter.widget-view+json": {
       "model_id": "8369501a9c4f466f8460828c10fbbe6c",
       "version_major": 2,
       "version_minor": 0
      },
      "text/plain": [
       "VBox()"
      ]
     },
     "metadata": {},
     "output_type": "display_data"
    },
    {
     "data": {
      "application/vnd.jupyter.widget-view+json": {
       "model_id": "",
       "version_major": 2,
       "version_minor": 0
      },
      "text/plain": [
       "FloatProgress(value=0.0, bar_style='info', description='Progress:', layout=Layout(height='25px', width='50%'),…"
      ]
     },
     "metadata": {},
     "output_type": "display_data"
    }
   ],
   "source": [
    "# Import Libraies - Machine Learning\n",
    "from pyspark.ml.feature import VectorAssembler, Normalizer, StandardScaler\n",
    "from pyspark.ml.classification import LogisticRegression, NaiveBayes, LinearSVC, RandomForestClassifier, GBTClassifier\n",
    "from pyspark.ml.evaluation import MulticlassClassificationEvaluator, BinaryClassificationEvaluator\n",
    "from pyspark.ml import Pipeline\n",
    "from pyspark.ml.tuning import CrossValidator, ParamGridBuilder"
   ]
  },
  {
   "cell_type": "code",
   "execution_count": 11,
   "id": "d56226d8",
   "metadata": {},
   "outputs": [
    {
     "data": {
      "application/vnd.jupyter.widget-view+json": {
       "model_id": "08b2fd4a59774ff5b8b14d9890fcf526",
       "version_major": 2,
       "version_minor": 0
      },
      "text/plain": [
       "VBox()"
      ]
     },
     "metadata": {},
     "output_type": "display_data"
    },
    {
     "data": {
      "application/vnd.jupyter.widget-view+json": {
       "model_id": "",
       "version_major": 2,
       "version_minor": 0
      },
      "text/plain": [
       "FloatProgress(value=0.0, bar_style='info', description='Progress:', layout=Layout(height='25px', width='50%'),…"
      ]
     },
     "metadata": {},
     "output_type": "display_data"
    }
   ],
   "source": [
    "# Split dataset (training 80% and test 20%)\n",
    "training, test = df.randomSplit([0.8, 0.2])"
   ]
  },
  {
   "cell_type": "code",
   "execution_count": 12,
   "id": "c4259cac",
   "metadata": {},
   "outputs": [
    {
     "data": {
      "application/vnd.jupyter.widget-view+json": {
       "model_id": "675b5721a8e64fa2a3d111abcc030f7a",
       "version_major": 2,
       "version_minor": 0
      },
      "text/plain": [
       "VBox()"
      ]
     },
     "metadata": {},
     "output_type": "display_data"
    },
    {
     "data": {
      "application/vnd.jupyter.widget-view+json": {
       "model_id": "",
       "version_major": 2,
       "version_minor": 0
      },
      "text/plain": [
       "FloatProgress(value=0.0, bar_style='info', description='Progress:', layout=Layout(height='25px', width='50%'),…"
      ]
     },
     "metadata": {},
     "output_type": "display_data"
    }
   ],
   "source": [
    "# Create Assembler\n",
    "assembler = VectorAssembler(inputCols=['Acidez_Fixa','Acidez_Volatil','Acido_Citrico','Acucar_Residual',\\\n",
    "                                       'Cloreto_Sodio','Dioxido_Enxofre_Livre','Dioxido_Enxofre_Total',\\\n",
    "                                       'Densidade','pH','Sulfato','Alcool','Qualidade'], \\\n",
    "                            outputCol=\"inputFeatures\")"
   ]
  },
  {
   "cell_type": "code",
   "execution_count": 13,
   "id": "2c304df5",
   "metadata": {},
   "outputs": [
    {
     "data": {
      "application/vnd.jupyter.widget-view+json": {
       "model_id": "229b4cef4e744097882a0a54e8e9431d",
       "version_major": 2,
       "version_minor": 0
      },
      "text/plain": [
       "VBox()"
      ]
     },
     "metadata": {},
     "output_type": "display_data"
    },
    {
     "data": {
      "application/vnd.jupyter.widget-view+json": {
       "model_id": "",
       "version_major": 2,
       "version_minor": 0
      },
      "text/plain": [
       "FloatProgress(value=0.0, bar_style='info', description='Progress:', layout=Layout(height='25px', width='50%'),…"
      ]
     },
     "metadata": {},
     "output_type": "display_data"
    }
   ],
   "source": [
    "# Standard Scaler (Normalize)\n",
    "scaler = Normalizer(inputCol = \"inputFeatures\", outputCol = \"features\")"
   ]
  },
  {
   "cell_type": "markdown",
   "id": "6c1db679",
   "metadata": {},
   "source": [
    "## 4.1. Logistic Regression"
   ]
  },
  {
   "cell_type": "code",
   "execution_count": 14,
   "id": "51650672",
   "metadata": {},
   "outputs": [
    {
     "data": {
      "application/vnd.jupyter.widget-view+json": {
       "model_id": "4b2874a35d10442694952439b8d60ea4",
       "version_major": 2,
       "version_minor": 0
      },
      "text/plain": [
       "VBox()"
      ]
     },
     "metadata": {},
     "output_type": "display_data"
    },
    {
     "data": {
      "application/vnd.jupyter.widget-view+json": {
       "model_id": "",
       "version_major": 2,
       "version_minor": 0
      },
      "text/plain": [
       "FloatProgress(value=0.0, bar_style='info', description='Progress:', layout=Layout(height='25px', width='50%'),…"
      ]
     },
     "metadata": {},
     "output_type": "display_data"
    }
   ],
   "source": [
    "# Model Creation\n",
    "lr = LogisticRegression()"
   ]
  },
  {
   "cell_type": "code",
   "execution_count": 15,
   "id": "cdc1e199",
   "metadata": {},
   "outputs": [
    {
     "data": {
      "application/vnd.jupyter.widget-view+json": {
       "model_id": "8f43f63a1b7c4f839f5cfdf753eceb92",
       "version_major": 2,
       "version_minor": 0
      },
      "text/plain": [
       "VBox()"
      ]
     },
     "metadata": {},
     "output_type": "display_data"
    },
    {
     "data": {
      "application/vnd.jupyter.widget-view+json": {
       "model_id": "",
       "version_major": 2,
       "version_minor": 0
      },
      "text/plain": [
       "FloatProgress(value=0.0, bar_style='info', description='Progress:', layout=Layout(height='25px', width='50%'),…"
      ]
     },
     "metadata": {},
     "output_type": "display_data"
    }
   ],
   "source": [
    "# Creating Pipeline\n",
    "pipeline_lr = Pipeline(stages = [assembler, scaler, lr])"
   ]
  },
  {
   "cell_type": "code",
   "execution_count": 16,
   "id": "0b6e0dd4",
   "metadata": {},
   "outputs": [
    {
     "data": {
      "application/vnd.jupyter.widget-view+json": {
       "model_id": "b16f44a215ac479aa909a4bc35c1eca4",
       "version_major": 2,
       "version_minor": 0
      },
      "text/plain": [
       "VBox()"
      ]
     },
     "metadata": {},
     "output_type": "display_data"
    },
    {
     "data": {
      "application/vnd.jupyter.widget-view+json": {
       "model_id": "",
       "version_major": 2,
       "version_minor": 0
      },
      "text/plain": [
       "FloatProgress(value=0.0, bar_style='info', description='Progress:', layout=Layout(height='25px', width='50%'),…"
      ]
     },
     "metadata": {},
     "output_type": "display_data"
    }
   ],
   "source": [
    "# Parameter\n",
    "paramgrid_lr = ParamGridBuilder().addGrid(lr.regParam, [0.0, 0,1]).addGrid(lr.maxIter, [10]).build()"
   ]
  },
  {
   "cell_type": "code",
   "execution_count": 17,
   "id": "504efca2",
   "metadata": {},
   "outputs": [
    {
     "data": {
      "application/vnd.jupyter.widget-view+json": {
       "model_id": "d8a6f31cc3e54224bce06a24be794686",
       "version_major": 2,
       "version_minor": 0
      },
      "text/plain": [
       "VBox()"
      ]
     },
     "metadata": {},
     "output_type": "display_data"
    },
    {
     "data": {
      "application/vnd.jupyter.widget-view+json": {
       "model_id": "",
       "version_major": 2,
       "version_minor": 0
      },
      "text/plain": [
       "FloatProgress(value=0.0, bar_style='info', description='Progress:', layout=Layout(height='25px', width='50%'),…"
      ]
     },
     "metadata": {},
     "output_type": "display_data"
    }
   ],
   "source": [
    "# Evaluator\n",
    "evaluator_lr = MulticlassClassificationEvaluator(metricName = \"accuracy\")"
   ]
  },
  {
   "cell_type": "code",
   "execution_count": 18,
   "id": "fd1dadd9",
   "metadata": {},
   "outputs": [
    {
     "data": {
      "application/vnd.jupyter.widget-view+json": {
       "model_id": "517324604a2c4e7ea2d967824ca15630",
       "version_major": 2,
       "version_minor": 0
      },
      "text/plain": [
       "VBox()"
      ]
     },
     "metadata": {},
     "output_type": "display_data"
    },
    {
     "data": {
      "application/vnd.jupyter.widget-view+json": {
       "model_id": "",
       "version_major": 2,
       "version_minor": 0
      },
      "text/plain": [
       "FloatProgress(value=0.0, bar_style='info', description='Progress:', layout=Layout(height='25px', width='50%'),…"
      ]
     },
     "metadata": {},
     "output_type": "display_data"
    }
   ],
   "source": [
    "# Cross Validation\n",
    "crossval_lr = CrossValidator(estimator = pipeline_lr, estimatorParamMaps = paramgrid_lr, \\\n",
    "                             evaluator = evaluator_lr, numFolds = 3, seed=10)"
   ]
  },
  {
   "cell_type": "code",
   "execution_count": 19,
   "id": "b85f4b00",
   "metadata": {},
   "outputs": [
    {
     "data": {
      "application/vnd.jupyter.widget-view+json": {
       "model_id": "5a29a52891a94b02bb0f4966c5d25da6",
       "version_major": 2,
       "version_minor": 0
      },
      "text/plain": [
       "VBox()"
      ]
     },
     "metadata": {},
     "output_type": "display_data"
    },
    {
     "data": {
      "application/vnd.jupyter.widget-view+json": {
       "model_id": "",
       "version_major": 2,
       "version_minor": 0
      },
      "text/plain": [
       "FloatProgress(value=0.0, bar_style='info', description='Progress:', layout=Layout(height='25px', width='50%'),…"
      ]
     },
     "metadata": {},
     "output_type": "display_data"
    },
    {
     "name": "stdout",
     "output_type": "stream",
     "text": [
      "0.9805295950155763"
     ]
    }
   ],
   "source": [
    "# Training and evaluation\n",
    "cvModel_lr = crossval_lr.fit(training)\n",
    "evaluator_lr.evaluate(cvModel_lr.transform(test))"
   ]
  },
  {
   "cell_type": "code",
   "execution_count": 20,
   "id": "f514d05b",
   "metadata": {},
   "outputs": [
    {
     "data": {
      "application/vnd.jupyter.widget-view+json": {
       "model_id": "c350c734a19940979b794bcad27b7e75",
       "version_major": 2,
       "version_minor": 0
      },
      "text/plain": [
       "VBox()"
      ]
     },
     "metadata": {},
     "output_type": "display_data"
    },
    {
     "data": {
      "application/vnd.jupyter.widget-view+json": {
       "model_id": "",
       "version_major": 2,
       "version_minor": 0
      },
      "text/plain": [
       "FloatProgress(value=0.0, bar_style='info', description='Progress:', layout=Layout(height='25px', width='50%'),…"
      ]
     },
     "metadata": {},
     "output_type": "display_data"
    }
   ],
   "source": [
    "# Evaluator\n",
    "evaluator_lr = MulticlassClassificationEvaluator(metricName = \"f1\")"
   ]
  },
  {
   "cell_type": "code",
   "execution_count": 21,
   "id": "5e8e238d",
   "metadata": {},
   "outputs": [
    {
     "data": {
      "application/vnd.jupyter.widget-view+json": {
       "model_id": "6a8c8fd841d94701b61644fa57411706",
       "version_major": 2,
       "version_minor": 0
      },
      "text/plain": [
       "VBox()"
      ]
     },
     "metadata": {},
     "output_type": "display_data"
    },
    {
     "data": {
      "application/vnd.jupyter.widget-view+json": {
       "model_id": "",
       "version_major": 2,
       "version_minor": 0
      },
      "text/plain": [
       "FloatProgress(value=0.0, bar_style='info', description='Progress:', layout=Layout(height='25px', width='50%'),…"
      ]
     },
     "metadata": {},
     "output_type": "display_data"
    }
   ],
   "source": [
    "# Cross Validation\n",
    "crossval_lr = CrossValidator(estimator = pipeline_lr, estimatorParamMaps = paramgrid_lr, \\\n",
    "                             evaluator = evaluator_lr, numFolds = 3, seed=10)"
   ]
  },
  {
   "cell_type": "code",
   "execution_count": 22,
   "id": "6ac4fe79",
   "metadata": {},
   "outputs": [
    {
     "data": {
      "application/vnd.jupyter.widget-view+json": {
       "model_id": "6c57c7f325b84b06b7c1bb0749d0e4e8",
       "version_major": 2,
       "version_minor": 0
      },
      "text/plain": [
       "VBox()"
      ]
     },
     "metadata": {},
     "output_type": "display_data"
    },
    {
     "data": {
      "application/vnd.jupyter.widget-view+json": {
       "model_id": "",
       "version_major": 2,
       "version_minor": 0
      },
      "text/plain": [
       "FloatProgress(value=0.0, bar_style='info', description='Progress:', layout=Layout(height='25px', width='50%'),…"
      ]
     },
     "metadata": {},
     "output_type": "display_data"
    },
    {
     "name": "stdout",
     "output_type": "stream",
     "text": [
      "0.9804374227910806"
     ]
    }
   ],
   "source": [
    "# Training and evaluation\n",
    "cvModel_lr = crossval_lr.fit(training)\n",
    "evaluator_lr.evaluate(cvModel_lr.transform(test))"
   ]
  },
  {
   "cell_type": "markdown",
   "id": "21f7efcc",
   "metadata": {},
   "source": [
    "## 4.2. Naive Bayes"
   ]
  },
  {
   "cell_type": "code",
   "execution_count": 23,
   "id": "8787553a",
   "metadata": {},
   "outputs": [
    {
     "data": {
      "application/vnd.jupyter.widget-view+json": {
       "model_id": "cfd47c5fdc684b75b6973285c2e45b39",
       "version_major": 2,
       "version_minor": 0
      },
      "text/plain": [
       "VBox()"
      ]
     },
     "metadata": {},
     "output_type": "display_data"
    },
    {
     "data": {
      "application/vnd.jupyter.widget-view+json": {
       "model_id": "",
       "version_major": 2,
       "version_minor": 0
      },
      "text/plain": [
       "FloatProgress(value=0.0, bar_style='info', description='Progress:', layout=Layout(height='25px', width='50%'),…"
      ]
     },
     "metadata": {},
     "output_type": "display_data"
    }
   ],
   "source": [
    "# Model Creation\n",
    "nb = NaiveBayes()"
   ]
  },
  {
   "cell_type": "code",
   "execution_count": 24,
   "id": "5b5f8e6c",
   "metadata": {},
   "outputs": [
    {
     "data": {
      "application/vnd.jupyter.widget-view+json": {
       "model_id": "bd6faaa13570483c9fc1b523405eda9c",
       "version_major": 2,
       "version_minor": 0
      },
      "text/plain": [
       "VBox()"
      ]
     },
     "metadata": {},
     "output_type": "display_data"
    },
    {
     "data": {
      "application/vnd.jupyter.widget-view+json": {
       "model_id": "",
       "version_major": 2,
       "version_minor": 0
      },
      "text/plain": [
       "FloatProgress(value=0.0, bar_style='info', description='Progress:', layout=Layout(height='25px', width='50%'),…"
      ]
     },
     "metadata": {},
     "output_type": "display_data"
    }
   ],
   "source": [
    "# Creating Pipeline\n",
    "pipeline_nb = Pipeline(stages = [assembler, scaler, nb])"
   ]
  },
  {
   "cell_type": "code",
   "execution_count": 25,
   "id": "3fce69fc",
   "metadata": {},
   "outputs": [
    {
     "data": {
      "application/vnd.jupyter.widget-view+json": {
       "model_id": "7ecc524b7f6143d19eb06675d673ab15",
       "version_major": 2,
       "version_minor": 0
      },
      "text/plain": [
       "VBox()"
      ]
     },
     "metadata": {},
     "output_type": "display_data"
    },
    {
     "data": {
      "application/vnd.jupyter.widget-view+json": {
       "model_id": "",
       "version_major": 2,
       "version_minor": 0
      },
      "text/plain": [
       "FloatProgress(value=0.0, bar_style='info', description='Progress:', layout=Layout(height='25px', width='50%'),…"
      ]
     },
     "metadata": {},
     "output_type": "display_data"
    }
   ],
   "source": [
    "# Parameter\n",
    "paramgrid_nb = ParamGridBuilder().build()"
   ]
  },
  {
   "cell_type": "code",
   "execution_count": 26,
   "id": "30c7773b",
   "metadata": {},
   "outputs": [
    {
     "data": {
      "application/vnd.jupyter.widget-view+json": {
       "model_id": "5574d57861ca40ce877ce794b6b06f78",
       "version_major": 2,
       "version_minor": 0
      },
      "text/plain": [
       "VBox()"
      ]
     },
     "metadata": {},
     "output_type": "display_data"
    },
    {
     "data": {
      "application/vnd.jupyter.widget-view+json": {
       "model_id": "",
       "version_major": 2,
       "version_minor": 0
      },
      "text/plain": [
       "FloatProgress(value=0.0, bar_style='info', description='Progress:', layout=Layout(height='25px', width='50%'),…"
      ]
     },
     "metadata": {},
     "output_type": "display_data"
    }
   ],
   "source": [
    "# Evaluator\n",
    "evaluator_nb = MulticlassClassificationEvaluator(metricName = \"accuracy\")"
   ]
  },
  {
   "cell_type": "code",
   "execution_count": 27,
   "id": "6bbd95ab",
   "metadata": {},
   "outputs": [
    {
     "data": {
      "application/vnd.jupyter.widget-view+json": {
       "model_id": "d962145fa0ba43e19b6884b497540c51",
       "version_major": 2,
       "version_minor": 0
      },
      "text/plain": [
       "VBox()"
      ]
     },
     "metadata": {},
     "output_type": "display_data"
    },
    {
     "data": {
      "application/vnd.jupyter.widget-view+json": {
       "model_id": "",
       "version_major": 2,
       "version_minor": 0
      },
      "text/plain": [
       "FloatProgress(value=0.0, bar_style='info', description='Progress:', layout=Layout(height='25px', width='50%'),…"
      ]
     },
     "metadata": {},
     "output_type": "display_data"
    }
   ],
   "source": [
    "# Cross Validation\n",
    "crossval_nb = CrossValidator(estimator = pipeline_nb, estimatorParamMaps = paramgrid_nb, \\\n",
    "                             evaluator = evaluator_nb, numFolds = 3, seed=10)"
   ]
  },
  {
   "cell_type": "code",
   "execution_count": 28,
   "id": "28bcfaea",
   "metadata": {},
   "outputs": [
    {
     "data": {
      "application/vnd.jupyter.widget-view+json": {
       "model_id": "0b92a0d775ef4742a1e600457c1fc0c5",
       "version_major": 2,
       "version_minor": 0
      },
      "text/plain": [
       "VBox()"
      ]
     },
     "metadata": {},
     "output_type": "display_data"
    },
    {
     "data": {
      "application/vnd.jupyter.widget-view+json": {
       "model_id": "",
       "version_major": 2,
       "version_minor": 0
      },
      "text/plain": [
       "FloatProgress(value=0.0, bar_style='info', description='Progress:', layout=Layout(height='25px', width='50%'),…"
      ]
     },
     "metadata": {},
     "output_type": "display_data"
    },
    {
     "name": "stdout",
     "output_type": "stream",
     "text": [
      "0.7725856697819314"
     ]
    }
   ],
   "source": [
    "# Training and evaluation\n",
    "cvModel_nb = crossval_nb.fit(training)\n",
    "evaluator_nb.evaluate(cvModel_nb.transform(test))"
   ]
  },
  {
   "cell_type": "code",
   "execution_count": 29,
   "id": "a95c37e8",
   "metadata": {},
   "outputs": [
    {
     "data": {
      "application/vnd.jupyter.widget-view+json": {
       "model_id": "4d07b9e4eb784b088082ba6d4de4a4f2",
       "version_major": 2,
       "version_minor": 0
      },
      "text/plain": [
       "VBox()"
      ]
     },
     "metadata": {},
     "output_type": "display_data"
    },
    {
     "data": {
      "application/vnd.jupyter.widget-view+json": {
       "model_id": "",
       "version_major": 2,
       "version_minor": 0
      },
      "text/plain": [
       "FloatProgress(value=0.0, bar_style='info', description='Progress:', layout=Layout(height='25px', width='50%'),…"
      ]
     },
     "metadata": {},
     "output_type": "display_data"
    }
   ],
   "source": [
    "# Evaluator\n",
    "evaluator_nb = MulticlassClassificationEvaluator(metricName = \"f1\")"
   ]
  },
  {
   "cell_type": "code",
   "execution_count": 30,
   "id": "0ed200fb",
   "metadata": {},
   "outputs": [
    {
     "data": {
      "application/vnd.jupyter.widget-view+json": {
       "model_id": "c545f54105994ee4b6f010f1f12fe8d0",
       "version_major": 2,
       "version_minor": 0
      },
      "text/plain": [
       "VBox()"
      ]
     },
     "metadata": {},
     "output_type": "display_data"
    },
    {
     "data": {
      "application/vnd.jupyter.widget-view+json": {
       "model_id": "",
       "version_major": 2,
       "version_minor": 0
      },
      "text/plain": [
       "FloatProgress(value=0.0, bar_style='info', description='Progress:', layout=Layout(height='25px', width='50%'),…"
      ]
     },
     "metadata": {},
     "output_type": "display_data"
    }
   ],
   "source": [
    "# Cross Validation\n",
    "crossval_nb = CrossValidator(estimator = pipeline_nb, estimatorParamMaps = paramgrid_nb, \\\n",
    "                             evaluator = evaluator_nb, numFolds = 3, seed=10)"
   ]
  },
  {
   "cell_type": "code",
   "execution_count": 31,
   "id": "ace7313b",
   "metadata": {},
   "outputs": [
    {
     "data": {
      "application/vnd.jupyter.widget-view+json": {
       "model_id": "c1435aa4eb584490beff9a6756bff2bc",
       "version_major": 2,
       "version_minor": 0
      },
      "text/plain": [
       "VBox()"
      ]
     },
     "metadata": {},
     "output_type": "display_data"
    },
    {
     "data": {
      "application/vnd.jupyter.widget-view+json": {
       "model_id": "",
       "version_major": 2,
       "version_minor": 0
      },
      "text/plain": [
       "FloatProgress(value=0.0, bar_style='info', description='Progress:', layout=Layout(height='25px', width='50%'),…"
      ]
     },
     "metadata": {},
     "output_type": "display_data"
    },
    {
     "name": "stdout",
     "output_type": "stream",
     "text": [
      "0.6937899278494694"
     ]
    }
   ],
   "source": [
    "# Training and evaluation\n",
    "cvModel_nb = crossval_nb.fit(training)\n",
    "evaluator_nb.evaluate(cvModel_nb.transform(test))"
   ]
  },
  {
   "cell_type": "markdown",
   "id": "36c34f6d",
   "metadata": {},
   "source": [
    "## 4.3. Linear Support Vector Machine"
   ]
  },
  {
   "cell_type": "code",
   "execution_count": 32,
   "id": "c16c4afb",
   "metadata": {},
   "outputs": [
    {
     "data": {
      "application/vnd.jupyter.widget-view+json": {
       "model_id": "33aaaa8824554804987c7e609d46b8a4",
       "version_major": 2,
       "version_minor": 0
      },
      "text/plain": [
       "VBox()"
      ]
     },
     "metadata": {},
     "output_type": "display_data"
    },
    {
     "data": {
      "application/vnd.jupyter.widget-view+json": {
       "model_id": "",
       "version_major": 2,
       "version_minor": 0
      },
      "text/plain": [
       "FloatProgress(value=0.0, bar_style='info', description='Progress:', layout=Layout(height='25px', width='50%'),…"
      ]
     },
     "metadata": {},
     "output_type": "display_data"
    }
   ],
   "source": [
    "# Model Creation\n",
    "lsvc = LinearSVC()"
   ]
  },
  {
   "cell_type": "code",
   "execution_count": 33,
   "id": "f6427cbf",
   "metadata": {},
   "outputs": [
    {
     "data": {
      "application/vnd.jupyter.widget-view+json": {
       "model_id": "849fba742945409ebaf896b34b5c72ee",
       "version_major": 2,
       "version_minor": 0
      },
      "text/plain": [
       "VBox()"
      ]
     },
     "metadata": {},
     "output_type": "display_data"
    },
    {
     "data": {
      "application/vnd.jupyter.widget-view+json": {
       "model_id": "",
       "version_major": 2,
       "version_minor": 0
      },
      "text/plain": [
       "FloatProgress(value=0.0, bar_style='info', description='Progress:', layout=Layout(height='25px', width='50%'),…"
      ]
     },
     "metadata": {},
     "output_type": "display_data"
    }
   ],
   "source": [
    "# Creating Pipeline\n",
    "pipeline_lsvc = Pipeline(stages = [assembler, scaler, lsvc])"
   ]
  },
  {
   "cell_type": "code",
   "execution_count": 34,
   "id": "bca51eb7",
   "metadata": {},
   "outputs": [
    {
     "data": {
      "application/vnd.jupyter.widget-view+json": {
       "model_id": "76c6a8343b274f29ba7c13759b745c16",
       "version_major": 2,
       "version_minor": 0
      },
      "text/plain": [
       "VBox()"
      ]
     },
     "metadata": {},
     "output_type": "display_data"
    },
    {
     "data": {
      "application/vnd.jupyter.widget-view+json": {
       "model_id": "",
       "version_major": 2,
       "version_minor": 0
      },
      "text/plain": [
       "FloatProgress(value=0.0, bar_style='info', description='Progress:', layout=Layout(height='25px', width='50%'),…"
      ]
     },
     "metadata": {},
     "output_type": "display_data"
    }
   ],
   "source": [
    "# Parameter\n",
    "paramgrid_lsvc = ParamGridBuilder().build()"
   ]
  },
  {
   "cell_type": "code",
   "execution_count": 35,
   "id": "ec3f5596",
   "metadata": {},
   "outputs": [
    {
     "data": {
      "application/vnd.jupyter.widget-view+json": {
       "model_id": "089fd71273334b67a5f8abdf608ee71c",
       "version_major": 2,
       "version_minor": 0
      },
      "text/plain": [
       "VBox()"
      ]
     },
     "metadata": {},
     "output_type": "display_data"
    },
    {
     "data": {
      "application/vnd.jupyter.widget-view+json": {
       "model_id": "",
       "version_major": 2,
       "version_minor": 0
      },
      "text/plain": [
       "FloatProgress(value=0.0, bar_style='info', description='Progress:', layout=Layout(height='25px', width='50%'),…"
      ]
     },
     "metadata": {},
     "output_type": "display_data"
    }
   ],
   "source": [
    "# Evaluator\n",
    "evaluator_lsvc = MulticlassClassificationEvaluator(metricName = \"accuracy\")"
   ]
  },
  {
   "cell_type": "code",
   "execution_count": 36,
   "id": "c6f68f7a",
   "metadata": {},
   "outputs": [
    {
     "data": {
      "application/vnd.jupyter.widget-view+json": {
       "model_id": "692c34bcbc9345ea9072f7e383b48453",
       "version_major": 2,
       "version_minor": 0
      },
      "text/plain": [
       "VBox()"
      ]
     },
     "metadata": {},
     "output_type": "display_data"
    },
    {
     "data": {
      "application/vnd.jupyter.widget-view+json": {
       "model_id": "",
       "version_major": 2,
       "version_minor": 0
      },
      "text/plain": [
       "FloatProgress(value=0.0, bar_style='info', description='Progress:', layout=Layout(height='25px', width='50%'),…"
      ]
     },
     "metadata": {},
     "output_type": "display_data"
    }
   ],
   "source": [
    "# Cross Validation\n",
    "crossval_lsvc = CrossValidator(estimator = pipeline_lsvc, estimatorParamMaps = paramgrid_lsvc, \\\n",
    "                             evaluator = evaluator_lsvc, numFolds = 3, seed=10)"
   ]
  },
  {
   "cell_type": "code",
   "execution_count": 37,
   "id": "fd0784d3",
   "metadata": {},
   "outputs": [
    {
     "data": {
      "application/vnd.jupyter.widget-view+json": {
       "model_id": "99bade93556247d3b1b88e420cf3a7de",
       "version_major": 2,
       "version_minor": 0
      },
      "text/plain": [
       "VBox()"
      ]
     },
     "metadata": {},
     "output_type": "display_data"
    },
    {
     "data": {
      "application/vnd.jupyter.widget-view+json": {
       "model_id": "",
       "version_major": 2,
       "version_minor": 0
      },
      "text/plain": [
       "FloatProgress(value=0.0, bar_style='info', description='Progress:', layout=Layout(height='25px', width='50%'),…"
      ]
     },
     "metadata": {},
     "output_type": "display_data"
    },
    {
     "name": "stdout",
     "output_type": "stream",
     "text": [
      "0.9820872274143302"
     ]
    }
   ],
   "source": [
    "# Training and evaluation\n",
    "cvModel_lsvc = crossval_lsvc.fit(training) \n",
    "evaluator_lsvc.evaluate(cvModel_lsvc.transform(test))"
   ]
  },
  {
   "cell_type": "code",
   "execution_count": 38,
   "id": "c01332e4",
   "metadata": {},
   "outputs": [
    {
     "data": {
      "application/vnd.jupyter.widget-view+json": {
       "model_id": "9324d57a894e42dcb12fd7ce134fbcc2",
       "version_major": 2,
       "version_minor": 0
      },
      "text/plain": [
       "VBox()"
      ]
     },
     "metadata": {},
     "output_type": "display_data"
    },
    {
     "data": {
      "application/vnd.jupyter.widget-view+json": {
       "model_id": "",
       "version_major": 2,
       "version_minor": 0
      },
      "text/plain": [
       "FloatProgress(value=0.0, bar_style='info', description='Progress:', layout=Layout(height='25px', width='50%'),…"
      ]
     },
     "metadata": {},
     "output_type": "display_data"
    }
   ],
   "source": [
    "# Evaluator\n",
    "evaluator_lsvc = MulticlassClassificationEvaluator(metricName = \"f1\")"
   ]
  },
  {
   "cell_type": "code",
   "execution_count": 39,
   "id": "0a7800f7",
   "metadata": {},
   "outputs": [
    {
     "data": {
      "application/vnd.jupyter.widget-view+json": {
       "model_id": "d57e26622ecb45eba06eefa71cc5ad90",
       "version_major": 2,
       "version_minor": 0
      },
      "text/plain": [
       "VBox()"
      ]
     },
     "metadata": {},
     "output_type": "display_data"
    },
    {
     "data": {
      "application/vnd.jupyter.widget-view+json": {
       "model_id": "",
       "version_major": 2,
       "version_minor": 0
      },
      "text/plain": [
       "FloatProgress(value=0.0, bar_style='info', description='Progress:', layout=Layout(height='25px', width='50%'),…"
      ]
     },
     "metadata": {},
     "output_type": "display_data"
    }
   ],
   "source": [
    "# Cross Validation\n",
    "crossval_lsvc = CrossValidator(estimator = pipeline_lsvc, estimatorParamMaps = paramgrid_lsvc, \\\n",
    "                             evaluator = evaluator_lsvc, numFolds = 3, seed=10)"
   ]
  },
  {
   "cell_type": "code",
   "execution_count": 40,
   "id": "eb914057",
   "metadata": {},
   "outputs": [
    {
     "data": {
      "application/vnd.jupyter.widget-view+json": {
       "model_id": "c2f7e0364458425ca561701bc6d24b9d",
       "version_major": 2,
       "version_minor": 0
      },
      "text/plain": [
       "VBox()"
      ]
     },
     "metadata": {},
     "output_type": "display_data"
    },
    {
     "data": {
      "application/vnd.jupyter.widget-view+json": {
       "model_id": "",
       "version_major": 2,
       "version_minor": 0
      },
      "text/plain": [
       "FloatProgress(value=0.0, bar_style='info', description='Progress:', layout=Layout(height='25px', width='50%'),…"
      ]
     },
     "metadata": {},
     "output_type": "display_data"
    },
    {
     "name": "stdout",
     "output_type": "stream",
     "text": [
      "0.9819830449526602"
     ]
    }
   ],
   "source": [
    "# Training and evaluation\n",
    "cvModel_lsvc = crossval_lsvc.fit(training) \n",
    "evaluator_lsvc.evaluate(cvModel_lsvc.transform(test))"
   ]
  },
  {
   "cell_type": "markdown",
   "id": "c4b37453",
   "metadata": {},
   "source": [
    "## 4.4. Random Forest Classifier"
   ]
  },
  {
   "cell_type": "code",
   "execution_count": 41,
   "id": "770269e7",
   "metadata": {},
   "outputs": [
    {
     "data": {
      "application/vnd.jupyter.widget-view+json": {
       "model_id": "8b2fd3a711ec421d9c72d1adac189c84",
       "version_major": 2,
       "version_minor": 0
      },
      "text/plain": [
       "VBox()"
      ]
     },
     "metadata": {},
     "output_type": "display_data"
    },
    {
     "data": {
      "application/vnd.jupyter.widget-view+json": {
       "model_id": "",
       "version_major": 2,
       "version_minor": 0
      },
      "text/plain": [
       "FloatProgress(value=0.0, bar_style='info', description='Progress:', layout=Layout(height='25px', width='50%'),…"
      ]
     },
     "metadata": {},
     "output_type": "display_data"
    }
   ],
   "source": [
    "# Model Creation\n",
    "rf = RandomForestClassifier()"
   ]
  },
  {
   "cell_type": "code",
   "execution_count": 42,
   "id": "5f78990f",
   "metadata": {},
   "outputs": [
    {
     "data": {
      "application/vnd.jupyter.widget-view+json": {
       "model_id": "69f1730f12ec475b8aa7749cd09f9eba",
       "version_major": 2,
       "version_minor": 0
      },
      "text/plain": [
       "VBox()"
      ]
     },
     "metadata": {},
     "output_type": "display_data"
    },
    {
     "data": {
      "application/vnd.jupyter.widget-view+json": {
       "model_id": "",
       "version_major": 2,
       "version_minor": 0
      },
      "text/plain": [
       "FloatProgress(value=0.0, bar_style='info', description='Progress:', layout=Layout(height='25px', width='50%'),…"
      ]
     },
     "metadata": {},
     "output_type": "display_data"
    }
   ],
   "source": [
    "# Creating Pipeline\n",
    "pipeline_rf = Pipeline(stages = [assembler, scaler, rf])"
   ]
  },
  {
   "cell_type": "code",
   "execution_count": 43,
   "id": "4bc3ed28",
   "metadata": {},
   "outputs": [
    {
     "data": {
      "application/vnd.jupyter.widget-view+json": {
       "model_id": "9644dc1332794a89a060b154df9c5a19",
       "version_major": 2,
       "version_minor": 0
      },
      "text/plain": [
       "VBox()"
      ]
     },
     "metadata": {},
     "output_type": "display_data"
    },
    {
     "data": {
      "application/vnd.jupyter.widget-view+json": {
       "model_id": "",
       "version_major": 2,
       "version_minor": 0
      },
      "text/plain": [
       "FloatProgress(value=0.0, bar_style='info', description='Progress:', layout=Layout(height='25px', width='50%'),…"
      ]
     },
     "metadata": {},
     "output_type": "display_data"
    }
   ],
   "source": [
    "# Parameter\n",
    "paramgrid_rf = ParamGridBuilder().build()"
   ]
  },
  {
   "cell_type": "code",
   "execution_count": 44,
   "id": "38e6813e",
   "metadata": {},
   "outputs": [
    {
     "data": {
      "application/vnd.jupyter.widget-view+json": {
       "model_id": "d2cb5a5f7eb44bdb9e182e66c639c009",
       "version_major": 2,
       "version_minor": 0
      },
      "text/plain": [
       "VBox()"
      ]
     },
     "metadata": {},
     "output_type": "display_data"
    },
    {
     "data": {
      "application/vnd.jupyter.widget-view+json": {
       "model_id": "",
       "version_major": 2,
       "version_minor": 0
      },
      "text/plain": [
       "FloatProgress(value=0.0, bar_style='info', description='Progress:', layout=Layout(height='25px', width='50%'),…"
      ]
     },
     "metadata": {},
     "output_type": "display_data"
    }
   ],
   "source": [
    "# Evaluator\n",
    "evaluator_rf = MulticlassClassificationEvaluator(metricName = \"accuracy\")"
   ]
  },
  {
   "cell_type": "code",
   "execution_count": 45,
   "id": "87cd27cc",
   "metadata": {},
   "outputs": [
    {
     "data": {
      "application/vnd.jupyter.widget-view+json": {
       "model_id": "e49ae0480082470eb5171a1c1291d826",
       "version_major": 2,
       "version_minor": 0
      },
      "text/plain": [
       "VBox()"
      ]
     },
     "metadata": {},
     "output_type": "display_data"
    },
    {
     "data": {
      "application/vnd.jupyter.widget-view+json": {
       "model_id": "",
       "version_major": 2,
       "version_minor": 0
      },
      "text/plain": [
       "FloatProgress(value=0.0, bar_style='info', description='Progress:', layout=Layout(height='25px', width='50%'),…"
      ]
     },
     "metadata": {},
     "output_type": "display_data"
    }
   ],
   "source": [
    "# Cross Validation\n",
    "crossval_rf = CrossValidator(estimator = pipeline_rf, estimatorParamMaps = paramgrid_rf, \\\n",
    "                             evaluator = evaluator_rf, numFolds = 3, seed=10)"
   ]
  },
  {
   "cell_type": "code",
   "execution_count": 46,
   "id": "bc05fdc9",
   "metadata": {},
   "outputs": [
    {
     "data": {
      "application/vnd.jupyter.widget-view+json": {
       "model_id": "7280f1208bb549928c6311588fe54a5b",
       "version_major": 2,
       "version_minor": 0
      },
      "text/plain": [
       "VBox()"
      ]
     },
     "metadata": {},
     "output_type": "display_data"
    },
    {
     "data": {
      "application/vnd.jupyter.widget-view+json": {
       "model_id": "",
       "version_major": 2,
       "version_minor": 0
      },
      "text/plain": [
       "FloatProgress(value=0.0, bar_style='info', description='Progress:', layout=Layout(height='25px', width='50%'),…"
      ]
     },
     "metadata": {},
     "output_type": "display_data"
    },
    {
     "name": "stderr",
     "output_type": "stream",
     "text": [
      "Exception in thread cell_monitor-46:\n",
      "Traceback (most recent call last):\n",
      "  File \"/mnt/notebook-env/lib/python3.7/threading.py\", line 926, in _bootstrap_inner\n",
      "    self.run()\n",
      "  File \"/mnt/notebook-env/lib/python3.7/threading.py\", line 870, in run\n",
      "    self._target(*self._args, **self._kwargs)\n",
      "  File \"/mnt/notebook-env/lib/python3.7/site-packages/awseditorssparkmonitoringwidget-1.0-py3.7.egg/awseditorssparkmonitoringwidget/cellmonitor.py\", line 178, in cell_monitor\n",
      "    job_binned_stages[job_id][stage_id] = all_stages[stage_id]\n",
      "KeyError: 2692\n",
      "\n"
     ]
    },
    {
     "name": "stdout",
     "output_type": "stream",
     "text": [
      "0.9774143302180686"
     ]
    }
   ],
   "source": [
    "# Training and evaluation\n",
    "cvModel_rf = crossval_rf.fit(training) \n",
    "evaluator_rf.evaluate(cvModel_rf.transform(test))"
   ]
  },
  {
   "cell_type": "code",
   "execution_count": 47,
   "id": "65a0670d",
   "metadata": {},
   "outputs": [
    {
     "data": {
      "application/vnd.jupyter.widget-view+json": {
       "model_id": "fa92846a1c0647d69f820658dfc0cb1a",
       "version_major": 2,
       "version_minor": 0
      },
      "text/plain": [
       "VBox()"
      ]
     },
     "metadata": {},
     "output_type": "display_data"
    },
    {
     "data": {
      "application/vnd.jupyter.widget-view+json": {
       "model_id": "",
       "version_major": 2,
       "version_minor": 0
      },
      "text/plain": [
       "FloatProgress(value=0.0, bar_style='info', description='Progress:', layout=Layout(height='25px', width='50%'),…"
      ]
     },
     "metadata": {},
     "output_type": "display_data"
    }
   ],
   "source": [
    "# Evaluator\n",
    "evaluator_rf = MulticlassClassificationEvaluator(metricName = \"f1\")"
   ]
  },
  {
   "cell_type": "code",
   "execution_count": 48,
   "id": "5b3c3f6a",
   "metadata": {},
   "outputs": [
    {
     "data": {
      "application/vnd.jupyter.widget-view+json": {
       "model_id": "3e597444ce904ba0ba2e91a844a0024e",
       "version_major": 2,
       "version_minor": 0
      },
      "text/plain": [
       "VBox()"
      ]
     },
     "metadata": {},
     "output_type": "display_data"
    },
    {
     "data": {
      "application/vnd.jupyter.widget-view+json": {
       "model_id": "",
       "version_major": 2,
       "version_minor": 0
      },
      "text/plain": [
       "FloatProgress(value=0.0, bar_style='info', description='Progress:', layout=Layout(height='25px', width='50%'),…"
      ]
     },
     "metadata": {},
     "output_type": "display_data"
    }
   ],
   "source": [
    "# Cross Validation\n",
    "crossval_rf = CrossValidator(estimator = pipeline_rf, estimatorParamMaps = paramgrid_rf, \\\n",
    "                             evaluator = evaluator_rf, numFolds = 3, seed=10)"
   ]
  },
  {
   "cell_type": "code",
   "execution_count": 49,
   "id": "7d12e8d7",
   "metadata": {},
   "outputs": [
    {
     "data": {
      "application/vnd.jupyter.widget-view+json": {
       "model_id": "7d16987cee074a1c81755c9c1542c9e9",
       "version_major": 2,
       "version_minor": 0
      },
      "text/plain": [
       "VBox()"
      ]
     },
     "metadata": {},
     "output_type": "display_data"
    },
    {
     "data": {
      "application/vnd.jupyter.widget-view+json": {
       "model_id": "",
       "version_major": 2,
       "version_minor": 0
      },
      "text/plain": [
       "FloatProgress(value=0.0, bar_style='info', description='Progress:', layout=Layout(height='25px', width='50%'),…"
      ]
     },
     "metadata": {},
     "output_type": "display_data"
    },
    {
     "name": "stderr",
     "output_type": "stream",
     "text": [
      "Exception in thread cell_monitor-49:\n",
      "Traceback (most recent call last):\n",
      "  File \"/mnt/notebook-env/lib/python3.7/threading.py\", line 926, in _bootstrap_inner\n",
      "    self.run()\n",
      "  File \"/mnt/notebook-env/lib/python3.7/threading.py\", line 870, in run\n",
      "    self._target(*self._args, **self._kwargs)\n",
      "  File \"/mnt/notebook-env/lib/python3.7/site-packages/awseditorssparkmonitoringwidget-1.0-py3.7.egg/awseditorssparkmonitoringwidget/cellmonitor.py\", line 178, in cell_monitor\n",
      "    job_binned_stages[job_id][stage_id] = all_stages[stage_id]\n",
      "KeyError: 2780\n",
      "\n"
     ]
    },
    {
     "name": "stdout",
     "output_type": "stream",
     "text": [
      "0.9772829697229194"
     ]
    }
   ],
   "source": [
    "# Training and evaluation\n",
    "cvModel_rf = crossval_rf.fit(training) \n",
    "evaluator_rf.evaluate(cvModel_rf.transform(test))"
   ]
  },
  {
   "cell_type": "markdown",
   "id": "19bd3dc2",
   "metadata": {},
   "source": [
    "## 4.5. Gradient Boosted Tree Classifier"
   ]
  },
  {
   "cell_type": "code",
   "execution_count": 50,
   "id": "5572a856",
   "metadata": {},
   "outputs": [
    {
     "data": {
      "application/vnd.jupyter.widget-view+json": {
       "model_id": "4a0decd5869c4982bb707d4c4e10f8dd",
       "version_major": 2,
       "version_minor": 0
      },
      "text/plain": [
       "VBox()"
      ]
     },
     "metadata": {},
     "output_type": "display_data"
    },
    {
     "data": {
      "application/vnd.jupyter.widget-view+json": {
       "model_id": "",
       "version_major": 2,
       "version_minor": 0
      },
      "text/plain": [
       "FloatProgress(value=0.0, bar_style='info', description='Progress:', layout=Layout(height='25px', width='50%'),…"
      ]
     },
     "metadata": {},
     "output_type": "display_data"
    }
   ],
   "source": [
    "# Model Creation\n",
    "gbt = GBTClassifier()"
   ]
  },
  {
   "cell_type": "code",
   "execution_count": 51,
   "id": "a970651f",
   "metadata": {},
   "outputs": [
    {
     "data": {
      "application/vnd.jupyter.widget-view+json": {
       "model_id": "535f2319283d434ea3a5cf88cafe60c9",
       "version_major": 2,
       "version_minor": 0
      },
      "text/plain": [
       "VBox()"
      ]
     },
     "metadata": {},
     "output_type": "display_data"
    },
    {
     "data": {
      "application/vnd.jupyter.widget-view+json": {
       "model_id": "",
       "version_major": 2,
       "version_minor": 0
      },
      "text/plain": [
       "FloatProgress(value=0.0, bar_style='info', description='Progress:', layout=Layout(height='25px', width='50%'),…"
      ]
     },
     "metadata": {},
     "output_type": "display_data"
    }
   ],
   "source": [
    "# Creating Pipeline\n",
    "pipeline_gbt = Pipeline(stages = [assembler, scaler, gbt])"
   ]
  },
  {
   "cell_type": "code",
   "execution_count": 52,
   "id": "1133ace9",
   "metadata": {},
   "outputs": [
    {
     "data": {
      "application/vnd.jupyter.widget-view+json": {
       "model_id": "3a607cc4ff2c4a75b339957d7a49c021",
       "version_major": 2,
       "version_minor": 0
      },
      "text/plain": [
       "VBox()"
      ]
     },
     "metadata": {},
     "output_type": "display_data"
    },
    {
     "data": {
      "application/vnd.jupyter.widget-view+json": {
       "model_id": "",
       "version_major": 2,
       "version_minor": 0
      },
      "text/plain": [
       "FloatProgress(value=0.0, bar_style='info', description='Progress:', layout=Layout(height='25px', width='50%'),…"
      ]
     },
     "metadata": {},
     "output_type": "display_data"
    }
   ],
   "source": [
    "# Parameter\n",
    "paramgrid_gbt = ParamGridBuilder().build()"
   ]
  },
  {
   "cell_type": "code",
   "execution_count": 53,
   "id": "aa1d7964",
   "metadata": {},
   "outputs": [
    {
     "data": {
      "application/vnd.jupyter.widget-view+json": {
       "model_id": "9812e46654244de1b0882cd3cc00c8e3",
       "version_major": 2,
       "version_minor": 0
      },
      "text/plain": [
       "VBox()"
      ]
     },
     "metadata": {},
     "output_type": "display_data"
    },
    {
     "data": {
      "application/vnd.jupyter.widget-view+json": {
       "model_id": "",
       "version_major": 2,
       "version_minor": 0
      },
      "text/plain": [
       "FloatProgress(value=0.0, bar_style='info', description='Progress:', layout=Layout(height='25px', width='50%'),…"
      ]
     },
     "metadata": {},
     "output_type": "display_data"
    }
   ],
   "source": [
    "# Evaluator\n",
    "evaluator_gbt = MulticlassClassificationEvaluator(metricName = \"accuracy\")"
   ]
  },
  {
   "cell_type": "code",
   "execution_count": 54,
   "id": "f2c31f9c",
   "metadata": {},
   "outputs": [
    {
     "data": {
      "application/vnd.jupyter.widget-view+json": {
       "model_id": "ec9843fbe3954fe68c4993a67a2b154b",
       "version_major": 2,
       "version_minor": 0
      },
      "text/plain": [
       "VBox()"
      ]
     },
     "metadata": {},
     "output_type": "display_data"
    },
    {
     "data": {
      "application/vnd.jupyter.widget-view+json": {
       "model_id": "",
       "version_major": 2,
       "version_minor": 0
      },
      "text/plain": [
       "FloatProgress(value=0.0, bar_style='info', description='Progress:', layout=Layout(height='25px', width='50%'),…"
      ]
     },
     "metadata": {},
     "output_type": "display_data"
    }
   ],
   "source": [
    "# Cross Validation\n",
    "crossval_gbt = CrossValidator(estimator = pipeline_gbt, estimatorParamMaps = paramgrid_gbt, \\\n",
    "                              evaluator = evaluator_gbt, numFolds = 3, seed=10)"
   ]
  },
  {
   "cell_type": "code",
   "execution_count": 55,
   "id": "a6f892b2",
   "metadata": {},
   "outputs": [
    {
     "data": {
      "application/vnd.jupyter.widget-view+json": {
       "model_id": "3024d0ca397b45c085e3a8a8fbf41a2e",
       "version_major": 2,
       "version_minor": 0
      },
      "text/plain": [
       "VBox()"
      ]
     },
     "metadata": {},
     "output_type": "display_data"
    },
    {
     "data": {
      "application/vnd.jupyter.widget-view+json": {
       "model_id": "",
       "version_major": 2,
       "version_minor": 0
      },
      "text/plain": [
       "FloatProgress(value=0.0, bar_style='info', description='Progress:', layout=Layout(height='25px', width='50%'),…"
      ]
     },
     "metadata": {},
     "output_type": "display_data"
    },
    {
     "name": "stdout",
     "output_type": "stream",
     "text": [
      "0.9883177570093458"
     ]
    }
   ],
   "source": [
    "# Training and evaluation\n",
    "cvModel_gbt = crossval_gbt.fit(training) \n",
    "evaluator_gbt.evaluate(cvModel_gbt.transform(test))"
   ]
  },
  {
   "cell_type": "code",
   "execution_count": 56,
   "id": "61a36b8d",
   "metadata": {},
   "outputs": [
    {
     "data": {
      "application/vnd.jupyter.widget-view+json": {
       "model_id": "38a97cdcbb184b02b8e7f7b587b8009c",
       "version_major": 2,
       "version_minor": 0
      },
      "text/plain": [
       "VBox()"
      ]
     },
     "metadata": {},
     "output_type": "display_data"
    },
    {
     "data": {
      "application/vnd.jupyter.widget-view+json": {
       "model_id": "",
       "version_major": 2,
       "version_minor": 0
      },
      "text/plain": [
       "FloatProgress(value=0.0, bar_style='info', description='Progress:', layout=Layout(height='25px', width='50%'),…"
      ]
     },
     "metadata": {},
     "output_type": "display_data"
    }
   ],
   "source": [
    "# Evaluator\n",
    "evaluator_gbt = MulticlassClassificationEvaluator(metricName = \"f1\")"
   ]
  },
  {
   "cell_type": "code",
   "execution_count": 57,
   "id": "87c0ae45",
   "metadata": {},
   "outputs": [
    {
     "data": {
      "application/vnd.jupyter.widget-view+json": {
       "model_id": "4ad3d91890fc423e8762b3931f7b55e7",
       "version_major": 2,
       "version_minor": 0
      },
      "text/plain": [
       "VBox()"
      ]
     },
     "metadata": {},
     "output_type": "display_data"
    },
    {
     "data": {
      "application/vnd.jupyter.widget-view+json": {
       "model_id": "",
       "version_major": 2,
       "version_minor": 0
      },
      "text/plain": [
       "FloatProgress(value=0.0, bar_style='info', description='Progress:', layout=Layout(height='25px', width='50%'),…"
      ]
     },
     "metadata": {},
     "output_type": "display_data"
    }
   ],
   "source": [
    "# Cross Validation\n",
    "crossval_gbt = CrossValidator(estimator = pipeline_gbt, estimatorParamMaps = paramgrid_gbt, \\\n",
    "                              evaluator = evaluator_gbt, numFolds = 3, seed=10)"
   ]
  },
  {
   "cell_type": "code",
   "execution_count": 58,
   "id": "c3447446",
   "metadata": {},
   "outputs": [
    {
     "data": {
      "application/vnd.jupyter.widget-view+json": {
       "model_id": "221dab9a64404b02b43e9729d4678e9d",
       "version_major": 2,
       "version_minor": 0
      },
      "text/plain": [
       "VBox()"
      ]
     },
     "metadata": {},
     "output_type": "display_data"
    },
    {
     "data": {
      "application/vnd.jupyter.widget-view+json": {
       "model_id": "",
       "version_major": 2,
       "version_minor": 0
      },
      "text/plain": [
       "FloatProgress(value=0.0, bar_style='info', description='Progress:', layout=Layout(height='25px', width='50%'),…"
      ]
     },
     "metadata": {},
     "output_type": "display_data"
    },
    {
     "name": "stdout",
     "output_type": "stream",
     "text": [
      "0.9882996075449674"
     ]
    }
   ],
   "source": [
    "# Training and evaluation\n",
    "cvModel_gbt = crossval_gbt.fit(training) \n",
    "evaluator_gbt.evaluate(cvModel_gbt.transform(test))"
   ]
  },
  {
   "cell_type": "code",
   "execution_count": 59,
   "id": "be2d135f",
   "metadata": {},
   "outputs": [
    {
     "data": {
      "application/vnd.jupyter.widget-view+json": {
       "model_id": "9a31f81689494dd697f95e91d164a081",
       "version_major": 2,
       "version_minor": 0
      },
      "text/plain": [
       "VBox()"
      ]
     },
     "metadata": {},
     "output_type": "display_data"
    },
    {
     "data": {
      "application/vnd.jupyter.widget-view+json": {
       "model_id": "a79cb5c9546d4a248e900813e8796bf8",
       "version_major": 2,
       "version_minor": 0
      },
      "text/plain": [
       "FloatProgress(value=0.0, bar_style='info', description='Progress:', layout=Layout(height='25px', width='50%'),…"
      ]
     },
     "metadata": {},
     "output_type": "display_data"
    },
    {
     "name": "stderr",
     "output_type": "stream",
     "text": [
      "An error was encountered:\n",
      "Invalid status code '400' from http://localhost:8998/sessions/0/statements/59 with error payload: {\"msg\":\"requirement failed: Session isn't active.\"}\n"
     ]
    }
   ],
   "source": [
    "# spark.sparkContext.stop()\n",
    "spark.stop()"
   ]
  },
  {
   "cell_type": "markdown",
   "id": "9ecbaafe",
   "metadata": {},
   "source": [
    "## 4.4. Consolidado dos resultados"
   ]
  },
  {
   "cell_type": "markdown",
   "id": "9637a713",
   "metadata": {},
   "source": [
    "<img src=\"https://alunos.s3.amazonaws.com/omar.fidelis/images/6.1_Resultados.PNG\" >"
   ]
  },
  {
   "cell_type": "markdown",
   "id": "1774d893",
   "metadata": {},
   "source": [
    "# 5. Referência\n",
    "<br>\n",
    "Página do Professor Paulo Cortez<br>\n",
    "http://www3.dsi.uminho.pt/pcortez/Home.html<br>\n",
    "<br>\n",
    "Página de download da base de dados (dataset winequality.zip)<br>\n",
    "http://www3.dsi.uminho.pt/pcortez/wine/<br>\n",
    "<br>\n",
    "Spark Apache<br>\n",
    "https://spark.apache.org/<br>\n",
    "<br>\n",
    "Apache Spark<br>\n",
    "https://docs.aws.amazon.com/emr/latest/ReleaseGuide/emr-spark.html<br>\n",
    "<br>\n",
    "Create a cluster with Spark<br>\n",
    "https://docs.aws.amazon.com/emr/latest/ReleaseGuide/emr-spark-launch.html<br>\n",
    "<br>\n",
    "Apache Hive<br>\n",
    "https://docs.aws.amazon.com/emr/latest/ReleaseGuide/emr-hive.html<br>\n",
    "<br>\n",
    "Apache Livy<br>\n",
    "https://docs.aws.amazon.com/emr/latest/ReleaseGuide/emr-livy.html<br>\n",
    "<br>\n",
    "Amazon EMR Notebook based on Jupyter Notebook<br>\n",
    "https://docs.aws.amazon.com/emr/latest/ReleaseGuide/emr-jupyter-emr-managed-notebooks.html<br>\n",
    "<br>\n",
    "Spark 3.2.0 - ML Pipelines<br>\n",
    "https://spark.apache.org/docs/latest/ml-guide.html<br>\n",
    "<br>\n",
    "Machine Learning with PySpark and Amazon EMR<br>\n",
    "https://towardsdatascience.com/machine-learning-with-pyspark-and-amazon-emr-3149dbc847ae<br>"
   ]
  },
  {
   "cell_type": "markdown",
   "id": "2142ea41",
   "metadata": {},
   "source": [
    "<img src=\"https://alunos.s3.amazonaws.com/omar.fidelis/images/1.4_apresentacao.PNG\" width=\"70%\" height=\"70%\">"
   ]
  },
  {
   "cell_type": "markdown",
   "id": "6725d677",
   "metadata": {},
   "source": [
    "<img src=\"https://alunos.s3.amazonaws.com/omar.fidelis/images/1.5_entregaveis.PNG\" width=\"70%\" height=\"70%\">"
   ]
  },
  {
   "cell_type": "markdown",
   "id": "1f64199e",
   "metadata": {},
   "source": [
    "<img src=\"https://alunos.s3.amazonaws.com/omar.fidelis/images/1.6_criterios.PNG\" width=\"70%\" height=\"70%\">"
   ]
  }
 ],
 "metadata": {
  "kernelspec": {
   "display_name": "PySpark",
   "language": "",
   "name": "pysparkkernel"
  },
  "language_info": {
   "codemirror_mode": {
    "name": "python",
    "version": 3
   },
   "mimetype": "text/x-python",
   "name": "pyspark",
   "pygments_lexer": "python3"
  }
 },
 "nbformat": 4,
 "nbformat_minor": 5
}
